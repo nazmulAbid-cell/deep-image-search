{
  "nbformat": 4,
  "nbformat_minor": 0,
  "metadata": {
    "colab": {
      "provenance": []
    },
    "kernelspec": {
      "name": "python3",
      "display_name": "Python 3"
    },
    "language_info": {
      "name": "python"
    }
  },
  "cells": [
    {
      "cell_type": "code",
      "source": [
        "from google.colab import drive\n",
        "drive.mount('/content/drive')"
      ],
      "metadata": {
        "colab": {
          "base_uri": "https://localhost:8080/"
        },
        "id": "XWgyQXkGItfd",
        "outputId": "ca541077-4658-47af-e339-fa39a2df5566"
      },
      "execution_count": 1,
      "outputs": [
        {
          "output_type": "stream",
          "name": "stdout",
          "text": [
            "Drive already mounted at /content/drive; to attempt to forcibly remount, call drive.mount(\"/content/drive\", force_remount=True).\n"
          ]
        }
      ]
    },
    {
      "cell_type": "code",
      "source": [
        "!pip install imagehash\n"
      ],
      "metadata": {
        "colab": {
          "base_uri": "https://localhost:8080/"
        },
        "id": "NjTm3qvEJglY",
        "outputId": "d7675528-d4c7-4ffc-f4f1-aa2b159e486c"
      },
      "execution_count": 2,
      "outputs": [
        {
          "output_type": "stream",
          "name": "stdout",
          "text": [
            "Requirement already satisfied: imagehash in /usr/local/lib/python3.10/dist-packages (4.3.1)\n",
            "Requirement already satisfied: PyWavelets in /usr/local/lib/python3.10/dist-packages (from imagehash) (1.4.1)\n",
            "Requirement already satisfied: numpy in /usr/local/lib/python3.10/dist-packages (from imagehash) (1.23.5)\n",
            "Requirement already satisfied: pillow in /usr/local/lib/python3.10/dist-packages (from imagehash) (9.4.0)\n",
            "Requirement already satisfied: scipy in /usr/local/lib/python3.10/dist-packages (from imagehash) (1.11.3)\n"
          ]
        }
      ]
    },
    {
      "cell_type": "code",
      "source": [
        "from PIL import Image\n",
        "import imagehash\n",
        "\n",
        "# Load target image\n",
        "target_image_path = '/content/drive/MyDrive/dataset/animals/animals/bear/039b2ae790.jpg'\n",
        "target_image = Image.open(target_image_path)\n",
        "target_hash = imagehash.average_hash(target_image)\n",
        "\n",
        "# Path to the other image for comparison\n",
        "other_image_path = '/content/drive/MyDrive/dataset/animals/animals/bear/0f61069510.jpg'\n",
        "\n",
        "# Load the other image\n",
        "other_image = Image.open(other_image_path)\n",
        "\n",
        "# Calculate hash for the other image\n",
        "other_hash = imagehash.average_hash(other_image)\n",
        "\n",
        "# Print the hash values\n",
        "print(f'Target image hash: {target_hash}')\n",
        "print(f'Other image hash: {other_hash}')\n",
        "\n",
        "# Compare the hashes\n",
        "if target_hash == other_hash:\n",
        "    print(f'Target image found at: {other_image_path}')\n",
        "else:\n",
        "    print('Target image not found in the specified image.')\n"
      ],
      "metadata": {
        "colab": {
          "base_uri": "https://localhost:8080/"
        },
        "id": "s4y9FjVyJkpG",
        "outputId": "ff068629-e65f-4be3-9f5b-10e5ff1bf2be"
      },
      "execution_count": 12,
      "outputs": [
        {
          "output_type": "stream",
          "name": "stdout",
          "text": [
            "Target image hash: 2c7ffbedc889c9e1\n",
            "Other image hash: fefcfcb782c07070\n",
            "Target image not found in the specified image.\n"
          ]
        }
      ]
    },
    {
      "cell_type": "code",
      "source": [
        "# Load  target image\n",
        "target_image_path = '/content/drive/MyDrive/dataset/animals/animals/bear/0f61069510.jpg'\n",
        "target_image = Image.open(target_image_path)\n",
        "target_hash = imagehash.average_hash(target_image)\n",
        "\n",
        "# Path to the other image for comparison\n",
        "other_image_path = '/content/drive/MyDrive/dataset/animals/animals/bear/0f61069510.jpg'\n",
        "\n",
        "# Load the other image\n",
        "other_image = Image.open(other_image_path)\n",
        "\n",
        "# Calculate hash for the other image\n",
        "other_hash = imagehash.average_hash(other_image)\n",
        "\n",
        "# Compare the hashes\n",
        "if target_hash == other_hash:\n",
        "    print(f'Target image found at: {other_image_path}')\n",
        "else:\n",
        "    print('Target image not found in the specified image.')"
      ],
      "metadata": {
        "colab": {
          "base_uri": "https://localhost:8080/"
        },
        "id": "JyFF3TEGNcsx",
        "outputId": "ef746082-4715-45e0-8dfd-6c5c19a8c8af"
      },
      "execution_count": 9,
      "outputs": [
        {
          "output_type": "stream",
          "name": "stdout",
          "text": [
            "Target image found at: /content/drive/MyDrive/dataset/animals/animals/bear/0f61069510.jpg\n"
          ]
        }
      ]
    },
    {
      "cell_type": "code",
      "source": [
        "# loop through image data set"
      ],
      "metadata": {
        "id": "lrq6mT0_NJGY"
      },
      "execution_count": null,
      "outputs": []
    },
    {
      "cell_type": "code",
      "source": [
        "from PIL import Image\n",
        "import imagehash\n",
        "import os\n",
        "\n",
        "# Load your target image\n",
        "target_image_path = '/content/drive/MyDrive/dataset/116d9b7f88.jpg'\n",
        "target_image = Image.open(target_image_path)\n",
        "target_hash = imagehash.average_hash(target_image)\n",
        "\n",
        "# Path to your dataset directory\n",
        "dataset_path = '/content/drive/MyDrive/dataset/animals/animals/bear'\n",
        "\n",
        "# Loop through the images in the dataset\n",
        "for filename in os.listdir(dataset_path):\n",
        "    if filename.endswith(('.jpg', '.png', '.jpeg')):\n",
        "        # Construct the full path to the image\n",
        "        image_path = os.path.join(dataset_path, filename)\n",
        "\n",
        "        # Load the image\n",
        "        other_image = Image.open(image_path)\n",
        "\n",
        "        # Calculate hash for the other image\n",
        "        other_hash = imagehash.average_hash(other_image)\n",
        "\n",
        "        # Compare the hashes\n",
        "        if target_hash == other_hash:\n",
        "            print(f'Target image found at: {image_path}')\n",
        "            break  # Stop searching once a match is found\n"
      ],
      "metadata": {
        "colab": {
          "base_uri": "https://localhost:8080/"
        },
        "id": "_JvC-lJCNQ7k",
        "outputId": "35e20f46-2fd6-43db-fb9b-981393ed4b76"
      },
      "execution_count": 10,
      "outputs": [
        {
          "output_type": "stream",
          "name": "stdout",
          "text": [
            "Target image found at: /content/drive/MyDrive/dataset/animals/animals/bear/116d9b7f88.jpg\n"
          ]
        }
      ]
    }
  ]
}